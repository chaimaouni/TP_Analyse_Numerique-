{
 "cells": [
  {
   "cell_type": "markdown",
   "metadata": {},
   "source": [
    "<img src=\"Capture.PNG\">"
   ]
  },
  {
   "cell_type": "markdown",
   "metadata": {},
   "source": [
    "# <span style='color:blue'>Exercice 1 :</span>\n",
    ">  Le but de l’exercice est de mettre en évidence les erreurs de calcule dans un ordinateur \n"
   ]
  },
  {
   "cell_type": "code",
   "execution_count": 85,
   "metadata": {},
   "outputs": [
    {
     "data": {
      "text/plain": [
       "6.400000000000034e-17"
      ]
     },
     "execution_count": 85,
     "metadata": {},
     "output_type": "execute_result"
    }
   ],
   "source": [
    "def p(x):\n",
    "    return (x-1)**6\n",
    "p(0.998)"
   ]
  },
  {
   "cell_type": "code",
   "execution_count": 86,
   "metadata": {},
   "outputs": [
    {
     "data": {
      "text/plain": [
       "1.7763568394002505e-15"
      ]
     },
     "execution_count": 86,
     "metadata": {},
     "output_type": "execute_result"
    }
   ],
   "source": [
    "def f(x):\n",
    "    return x**6 - 6*x**5 + 15*x**4 - 20*x**3 + 15*x**2 -6*x +1\n",
    "f(0.998)"
   ]
  },
  {
   "cell_type": "markdown",
   "metadata": {},
   "source": [
    "> Les résultats obtenus sont différents malgré que les deux fonctions $f(x)$ et $p(x)$ sont equivalenetes mathématiquement . \n",
    "mais la fonction $p(x)$ est plus précise\n",
    "# <span style='color:red'>Méthode de Horner :</span>\n",
    "### <span style='color:blue'>Objectif :</span>\n",
    ">Cette méthode permet de calculer l'image d'un polynôme PP en un point $x_o$.\n",
    " En outre, elle permet d'obtenir la division euclidienne de $P(x)P(x)$ par $(x-x_o)(x−x)$, utile pour la factorisation des polynômes.\n",
    "Et puis elle est très simple et efficace (je parle en terme d'erreurs potentielles).\n"
   ]
  },
  {
   "cell_type": "code",
   "execution_count": 87,
   "metadata": {},
   "outputs": [],
   "source": [
    "def horner(P,x):\n",
    "    n=len(P)\n",
    "    valeur=P[n-1]\n",
    "    for i in range(n-2,-1,-1):\n",
    "        valeur=valeur*x+P[i]\n",
    "    return valeur"
   ]
  },
  {
   "cell_type": "code",
   "execution_count": 88,
   "metadata": {},
   "outputs": [
    {
     "name": "stdout",
     "output_type": "stream",
     "text": [
      "Expression réduite\n",
      "----------P(i)----------\n",
      "p(i)=  6.400000000000034e-17\n",
      "p(i)=  4.70458810000019e-17\n",
      "p(i)=  3.40122240000027e-17\n",
      "p(i)=  2.4137569000002966e-17\n",
      "p(i)=  1.6777216000002883e-17\n",
      "p(i)=  1.139062500000259e-17\n",
      "p(i)=  7.52953600000219e-18\n",
      "p(i)=  4.826809000001757e-18\n",
      "p(i)=  2.985984000001342e-18\n",
      "p(i)=  1.771561000000975e-18\n",
      "p(i)=  1.0000000000006715e-18\n",
      "p(i)=  5.314410000004355e-19\n",
      "p(i)=  2.6214400000026335e-19\n",
      "p(i)=  1.1764900000014617e-19\n",
      "p(i)=  4.665600000007277e-20\n",
      "p(i)=  1.562500000003131e-20\n",
      "p(i)=  4.096000000010936e-21\n",
      "p(i)=  7.290000000027557e-22\n",
      "p(i)=  6.400000000038403e-23\n",
      "p(i)=  1.0000000000126618e-24\n",
      "p(i)=  1.1985091468012028e-94\n",
      "p(i)=  9.999999999860165e-25\n",
      "p(i)=  6.399999999953138e-23\n",
      "p(i)=  7.289999999962809e-22\n",
      "p(i)=  4.095999999983651e-21\n",
      "p(i)=  1.562499999994804e-20\n",
      "p(i)=  4.6655999999865574e-20\n",
      "p(i)=  1.1764899999969834e-19\n",
      "p(i)=  2.6214399999939023e-19\n",
      "p(i)=  5.314409999988621e-19\n",
      "p(i)=  9.99999999998007e-19\n",
      "p(i)=  1.7715609999966836e-18\n",
      "p(i)=  2.9859839999947116e-18\n",
      "p(i)=  4.826808999991864e-18\n",
      "p(i)=  7.52953599998786e-18\n",
      "p(i)=  1.1390624999982356e-17\n",
      "p(i)=  1.6777215999974943e-17\n",
      "p(i)=  2.4137568999965134e-17\n",
      "p(i)=  3.401222399995235e-17\n",
      "p(i)=  4.704588099993592e-17\n",
      "p(i)=  6.399999999991508e-17\n",
      "Expression developpée\n",
      "----------f(i)----------\n",
      "f(i)=  1.7763568394002505e-15\n",
      "f(i)=  1.7763568394002505e-15\n",
      "f(i)=  0.0\n",
      "f(i)=  -2.6645352591003757e-15\n",
      "f(i)=  1.7763568394002505e-15\n",
      "f(i)=  0.0\n",
      "f(i)=  -1.7763568394002505e-15\n",
      "f(i)=  8.881784197001252e-16\n",
      "f(i)=  1.7763568394002505e-15\n",
      "f(i)=  -3.552713678800501e-15\n",
      "f(i)=  0.0\n",
      "f(i)=  -2.6645352591003757e-15\n",
      "f(i)=  0.0\n",
      "f(i)=  0.0\n",
      "f(i)=  -1.7763568394002505e-15\n",
      "f(i)=  -8.881784197001252e-16\n",
      "f(i)=  0.0\n",
      "f(i)=  1.7763568394002505e-15\n",
      "f(i)=  -1.7763568394002505e-15\n",
      "f(i)=  2.6645352591003757e-15\n",
      "f(i)=  0.0\n",
      "f(i)=  -1.7763568394002505e-15\n",
      "f(i)=  -1.7763568394002505e-15\n",
      "f(i)=  -4.440892098500626e-15\n",
      "f(i)=  -1.7763568394002505e-15\n",
      "f(i)=  5.329070518200751e-15\n",
      "f(i)=  0.0\n",
      "f(i)=  -2.6645352591003757e-15\n",
      "f(i)=  1.7763568394002505e-15\n",
      "f(i)=  -3.552713678800501e-15\n",
      "f(i)=  -3.552713678800501e-15\n",
      "f(i)=  8.881784197001252e-16\n",
      "f(i)=  1.7763568394002505e-15\n",
      "f(i)=  -1.7763568394002505e-15\n",
      "f(i)=  0.0\n",
      "f(i)=  2.6645352591003757e-15\n",
      "f(i)=  0.0\n",
      "f(i)=  1.7763568394002505e-15\n",
      "f(i)=  0.0\n",
      "f(i)=  2.6645352591003757e-15\n",
      "f(i)=  1.7763568394002505e-15\n",
      "----------horner----------\n",
      "horner(T,i) = -1.3322676295501878e-15\n",
      "horner(T,i) = 7.771561172376096e-16\n",
      "horner(T,i) = -1.1102230246251565e-15\n",
      "horner(T,i) = -6.661338147750939e-16\n",
      "horner(T,i) = 1.1102230246251565e-15\n",
      "horner(T,i) = -8.881784197001252e-16\n",
      "horner(T,i) = 7.771561172376096e-16\n",
      "horner(T,i) = -1.7763568394002505e-15\n",
      "horner(T,i) = 2.3314683517128287e-15\n",
      "horner(T,i) = 2.220446049250313e-16\n",
      "horner(T,i) = 4.440892098500626e-16\n",
      "horner(T,i) = 1.3322676295501878e-15\n",
      "horner(T,i) = 7.771561172376096e-16\n",
      "horner(T,i) = -4.440892098500626e-16\n",
      "horner(T,i) = -1.3322676295501878e-15\n",
      "horner(T,i) = -1.7763568394002505e-15\n",
      "horner(T,i) = -2.220446049250313e-16\n",
      "horner(T,i) = -8.881784197001252e-16\n",
      "horner(T,i) = 0.0\n",
      "horner(T,i) = 5.551115123125783e-16\n",
      "horner(T,i) = -6.661338147750939e-16\n",
      "horner(T,i) = 2.220446049250313e-16\n",
      "horner(T,i) = 5.551115123125783e-16\n",
      "horner(T,i) = -8.881784197001252e-16\n",
      "horner(T,i) = 4.440892098500626e-16\n",
      "horner(T,i) = -1.3322676295501878e-15\n",
      "horner(T,i) = 5.551115123125783e-16\n",
      "horner(T,i) = 3.3306690738754696e-16\n",
      "horner(T,i) = 5.551115123125783e-16\n",
      "horner(T,i) = -2.220446049250313e-15\n",
      "horner(T,i) = 4.440892098500626e-16\n",
      "horner(T,i) = -2.220446049250313e-15\n",
      "horner(T,i) = 2.55351295663786e-15\n",
      "horner(T,i) = 8.881784197001252e-16\n",
      "horner(T,i) = 0.0\n",
      "horner(T,i) = -8.881784197001252e-16\n",
      "horner(T,i) = 1.4432899320127035e-15\n",
      "horner(T,i) = 1.9984014443252818e-15\n",
      "horner(T,i) = -1.9984014443252818e-15\n",
      "horner(T,i) = -1.1102230246251565e-15\n",
      "horner(T,i) = 6.661338147750939e-16\n"
     ]
    }
   ],
   "source": [
    "import numpy\n",
    "T=[1,-6, 15, -20, 15, -6, 1]\n",
    "print('Expression réduite')\n",
    "print('----------P(i)----------')\n",
    "for i in numpy.arange(0.998, 1.002,0.0001):\n",
    "    print('p(i)= ' , p(i))\n",
    "\n",
    "print('Expression developpée')\n",
    "print('----------f(i)----------')\n",
    "for i in numpy.arange(0.998, 1.002,0.0001):\n",
    "    print('f(i)= ' , f(i))\n",
    "print('----------horner----------')\n",
    "for i in numpy.arange(0.998, 1.002,0.0001):\n",
    "    print('horner(T,i) =' , horner(T,i))"
   ]
  },
  {
   "cell_type": "markdown",
   "metadata": {},
   "source": [
    "### <span style='color:blue'>Graphique  :</span>"
   ]
  },
  {
   "cell_type": "code",
   "execution_count": 89,
   "metadata": {},
   "outputs": [
    {
     "data": {
      "image/png": "[encoded data removed]",
      "text/plain": [
       "<Figure size 432x288 with 1 Axes>"
      ]
     },
     "metadata": {
      "needs_background": "light"
     },
     "output_type": "display_data"
    }
   ],
   "source": [
    "import matplotlib.pyplot as plt\n",
    "import numpy as np\n",
    "x = np.arange(0.998, 1.002, 0.0001)\n",
    "plt.plot(x,p(x))\n",
    "plt.plot(x,f(x))\n",
    "plt.xlabel('x')\n",
    "plt.ylabel('f(x)')\n",
    "plt.title('fonction dans  [0.998:0.0001:1.002] ')\n",
    "plt.grid(True)   \n",
    "plt.show()"
   ]
  },
  {
   "cell_type": "markdown",
   "metadata": {},
   "source": [
    "# <span style='color:blue'>Exercice 2 :</span>\n",
    "# <span style='color:red'>Méthode de dichotomie :</span>\n",
    "> La méthode de dichotomie qui consiste à répéter des partages d’un intervalle en deux parties puis à sélectionner le sous-intervalle dans lequel existe un zéro de la fonction.  <ul> <li>  L’erreur dans la méthode de la dichotomie ne dépend pas de f. Ceci est un avantage de cette méthode.</li> <li> La méthode de la dichotomie est lente. Ceci représente un inconvenient.</li>\n",
    "</ul>"
   ]
  },
  {
   "cell_type": "markdown",
   "metadata": {},
   "source": [
    "### 1)"
   ]
  },
  {
   "cell_type": "code",
   "execution_count": 90,
   "metadata": {},
   "outputs": [
    {
     "data": {
      "text/plain": [
       "[<matplotlib.lines.Line2D at 0x252145b62e0>]"
      ]
     },
     "execution_count": 90,
     "metadata": {},
     "output_type": "execute_result"
    },
    {
     "data": {
      "image/png": "[encoded data removed]",
      "text/plain": [
       "<Figure size 432x288 with 1 Axes>"
      ]
     },
     "metadata": {
      "needs_background": "light"
     },
     "output_type": "display_data"
    }
   ],
   "source": [
    "import matplotlib.pyplot as plt\n",
    "from numpy import linspace\n",
    "f=lambda x: x**3+x**2-3*x-3\n",
    "T=linspace(-2,2,41)\n",
    "plt.title(\"solution dans [-2:2] \");\n",
    "plt.xlabel(\"x\")\n",
    "plt.ylabel (\"f(x)\")\n",
    "plt.grid(True)\n",
    "plt.plot(T,f(T))"
   ]
  },
  {
   "cell_type": "markdown",
   "metadata": {},
   "source": [
    "### 2) "
   ]
  },
  {
   "cell_type": "code",
   "execution_count": 152,
   "metadata": {},
   "outputs": [],
   "source": [
    "def dicho(a,b,g,n):\n",
    "   \n",
    "  while b-a > n :\n",
    "    m = (a+b)/2\n",
    "    if g(m)==0 :\n",
    "        return m\n",
    "    \n",
    "    if g(a)*g(m) < 0 :\n",
    "        b=m\n",
    "    else :\n",
    "        a=m\n",
    "   \n",
    "  return (a,b)\n",
    "    \n",
    "    "
   ]
  },
  {
   "cell_type": "code",
   "execution_count": 153,
   "metadata": {},
   "outputs": [
    {
     "data": {
      "text/plain": [
       "(-2, -1.5)"
      ]
     },
     "execution_count": 153,
     "metadata": {},
     "output_type": "execute_result"
    }
   ],
   "source": [
    "def g(x):\n",
    "    return x**3+x**2-3*x-3\n",
    "dicho(-2,-1.5,g,10)"
   ]
  },
  {
   "cell_type": "markdown",
   "metadata": {},
   "source": [
    "### 3)"
   ]
  },
  {
   "cell_type": "code",
   "execution_count": 122,
   "metadata": {},
   "outputs": [],
   "source": [
    "def dichow(a,b,g,eps):\n",
    "   t=0\n",
    "   while b-a > eps :\n",
    "    m = (a+b)/2\n",
    "    if g(m)==0 :\n",
    "        return m\n",
    "    \n",
    "    if g(a)*g(m) < 0 :\n",
    "        b=m\n",
    "    else :\n",
    "        a=m\n",
    "    t=t+1\n",
    "    return (a,b,t)\n",
    "    \n",
    "    "
   ]
  },
  {
   "cell_type": "code",
   "execution_count": 117,
   "metadata": {},
   "outputs": [
    {
     "data": {
      "text/plain": [
       "(-1.75, -1.5, 1)"
      ]
     },
     "execution_count": 117,
     "metadata": {},
     "output_type": "execute_result"
    }
   ],
   "source": [
    "def g(x):\n",
    "    return x**3+x**2-3*x-3\n",
    "dichow(-2,-1.5,g,0.0001)"
   ]
  },
  {
   "cell_type": "code",
   "execution_count": null,
   "metadata": {},
   "outputs": [],
   "source": []
  }
 ],
 "metadata": {
  "kernelspec": {
   "display_name": "Python 3",
   "language": "python",
   "name": "python3"
  },
  "language_info": {
   "codemirror_mode": {
    "name": "ipython",
    "version": 3
   },
   "file_extension": ".py",
   "mimetype": "text/x-python",
   "name": "python",
   "nbconvert_exporter": "python",
   "pygments_lexer": "ipython3",
   "version": "3.8.3"
  }
 },
 "nbformat": 4,
 "nbformat_minor": 4
}
