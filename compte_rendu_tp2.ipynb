{
 "cells": [
  {
   "cell_type": "markdown",
   "metadata": {},
   "source": [
    "<img src=\"Tp2.PNG\">"
   ]
  },
  {
   "cell_type": "markdown",
   "metadata": {},
   "source": [
    "# <div style=\"color:steelBlue;padding:2%;text-decoration: underline;\">Exercice 1:</div>"
   ]
  },
  {
   "cell_type": "code",
   "execution_count": 4,
   "metadata": {},
   "outputs": [],
   "source": [
    "from numpy import prod\n",
    "def prog(x,y,c):\n",
    "    S = [] \n",
    "    n = len(x)\n",
    "    \n",
    "    for j in range(n):\n",
    "        L =[c-a for a in x]\n",
    "        for k in range(n):\n",
    "            if (k == j):                \n",
    "                L[k] = 1\n",
    "            else:\n",
    "                L[k] = L[k]/(x[j] - x[k])   \n",
    "        S.append(y[j]*prod(L))\n",
    "        \n",
    "    return  sum(S)"
   ]
  },
  {
   "cell_type": "code",
   "execution_count": 5,
   "metadata": {},
   "outputs": [
    {
     "name": "stdout",
     "output_type": "stream",
     "text": [
      "-1.0\n",
      "0.0\n",
      "2.0\n",
      "1.0\n"
     ]
    },
    {
     "data": {
      "text/plain": [
       "10"
      ]
     },
     "execution_count": 5,
     "metadata": {},
     "output_type": "execute_result"
    }
   ],
   "source": [
    "X=[1 ,2 ,3 ,4];\n",
    "Y=[-1, 0, 2 ,1];\n",
    "for i in X:\n",
    "    print(prog(X,Y,i))\n",
    "sum(X)"
   ]
  },
  {
   "cell_type": "code",
   "execution_count": null,
   "metadata": {},
   "outputs": [],
   "source": []
  }
 ],
 "metadata": {
  "kernelspec": {
   "display_name": "Python 3",
   "language": "python",
   "name": "python3"
  },
  "language_info": {
   "codemirror_mode": {
    "name": "ipython",
    "version": 3
   },
   "file_extension": ".py",
   "mimetype": "text/x-python",
   "name": "python",
   "nbconvert_exporter": "python",
   "pygments_lexer": "ipython3",
   "version": "3.8.3"
  }
 },
 "nbformat": 4,
 "nbformat_minor": 4
}
